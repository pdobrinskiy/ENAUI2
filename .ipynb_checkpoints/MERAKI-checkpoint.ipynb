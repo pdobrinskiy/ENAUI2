{
 "cells": [
  {
   "cell_type": "code",
   "execution_count": 34,
   "id": "f9ac91be-c14c-4849-8d26-2ac97b305f63",
   "metadata": {
    "tags": []
   },
   "outputs": [],
   "source": [
    "import requests\n",
    "import json\n",
    "from pprint import pprint\n",
    "import pandas as pd"
   ]
  },
  {
   "cell_type": "code",
   "execution_count": 30,
   "id": "3e8b0490-ffef-4704-93d5-323a9b004d1c",
   "metadata": {
    "tags": []
   },
   "outputs": [],
   "source": [
    "BASE_URL = \"https://api.meraki.com/api/v1\"\n",
    "API_KEY = \"61b47a0362e2c0cc305929f6e5a4b241b7e5876c\"\n",
    "NETWORK_ID = \"L_669910444571375080\""
   ]
  },
  {
   "cell_type": "code",
   "execution_count": 3,
   "id": "8904ffe0-5499-4db0-828b-92f98ca12a70",
   "metadata": {
    "tags": []
   },
   "outputs": [],
   "source": [
    "HEADERS  = {\n",
    "'X-Cisco-Meraki-API-Key': API_KEY,\n",
    "'Content-Type': 'application/json'\n",
    "}"
   ]
  },
  {
   "cell_type": "code",
   "execution_count": 15,
   "id": "2fe54d6c-2fae-462f-9d81-48456a8359d5",
   "metadata": {
    "tags": []
   },
   "outputs": [],
   "source": [
    "url = f'{BASE_URL}/organizations/669910444571364008/networks'"
   ]
  },
  {
   "cell_type": "code",
   "execution_count": 16,
   "id": "ff00bba3-28ef-48e1-902f-7eec59e151a9",
   "metadata": {
    "tags": []
   },
   "outputs": [],
   "source": [
    "response = requests.get(url,headers=HEADERS)"
   ]
  },
  {
   "cell_type": "code",
   "execution_count": 17,
   "id": "7928bf09-c3fa-4b1a-9ba7-42a66a2b1167",
   "metadata": {
    "tags": []
   },
   "outputs": [
    {
     "name": "stdout",
     "output_type": "stream",
     "text": [
      "('[{\"id\":\"L_669910444571375080\",\"organizationId\":\"669910444571364008\",\"name\":\"branch '\n",
      " 'office\",\"productTypes\":[\"appliance\",\"camera\",\"cellularGateway\",\"sensor\",\"switch\",\"wireless\"],\"timeZone\":\"America/Los_Angeles\",\"tags\":[],\"enrollmentString\":null,\"url\":\"https://n190.meraki.com/branch-office-ap/n/XbOSOd-c/manage/usage/list\",\"notes\":null,\"isBoundToConfigTemplate\":false},{\"id\":\"L_669910444571375081\",\"organizationId\":\"669910444571364008\",\"name\":\"test\",\"productTypes\":[\"appliance\",\"camera\",\"cellularGateway\",\"sensor\",\"switch\",\"wireless\"],\"timeZone\":\"America/Los_Angeles\",\"tags\":[],\"enrollmentString\":null,\"url\":\"https://n190.meraki.com/test-appliance/n/amOgac-c/manage/usage/list\",\"notes\":null,\"isBoundToConfigTemplate\":false}]')\n"
     ]
    }
   ],
   "source": [
    "pprint (response.text)"
   ]
  },
  {
   "cell_type": "code",
   "execution_count": 21,
   "id": "89bb9983-dc90-4970-915f-24580725b620",
   "metadata": {
    "tags": []
   },
   "outputs": [],
   "source": [
    "payload  =  {\n",
    "    \"id\": 222,\n",
    "    \"networkId\": \"L_6434517bogus560141\",\n",
    "    \"name\": \"PYTHON\",\n",
    "    \"applianceIp\": \"122.16.110.1\",\n",
    "    \"subnet\": \"122.16.110.0/24\",\n",
    "    \"fixedIpAssignments\": {},\n",
    "    \"reservedIpRanges\": [],\n",
    "    \"dnsNameservers\": \"upstream_dns\"\n",
    "}"
   ]
  },
  {
   "cell_type": "code",
   "execution_count": 31,
   "id": "1f94012e-bc0e-4847-ab67-9488544b42f7",
   "metadata": {
    "tags": []
   },
   "outputs": [],
   "source": [
    "url = f'{BASE_URL}/networks/{NETWORK_ID}/appliance/vlans'"
   ]
  },
  {
   "cell_type": "code",
   "execution_count": 32,
   "id": "4406b6bd-7981-4ff2-a4a2-bf25d6c1e56a",
   "metadata": {
    "tags": []
   },
   "outputs": [],
   "source": [
    "response = requests.post(url, headers=HEADERS, json=payload)"
   ]
  },
  {
   "cell_type": "code",
   "execution_count": 33,
   "id": "ab9e3ec0-89ee-4f79-84bc-e24f339e73d9",
   "metadata": {
    "tags": []
   },
   "outputs": [
    {
     "data": {
      "text/plain": [
       "201"
      ]
     },
     "execution_count": 33,
     "metadata": {},
     "output_type": "execute_result"
    }
   ],
   "source": [
    "response.status_code"
   ]
  },
  {
   "cell_type": "code",
   "execution_count": 38,
   "id": "10ec6233-7120-4480-92b2-ab2aaeab0f6e",
   "metadata": {
    "tags": []
   },
   "outputs": [],
   "source": [
    "vlan_df = pd.read_csv(\"vlans.csv\")"
   ]
  },
  {
   "cell_type": "code",
   "execution_count": 39,
   "id": "083dd023-6be3-4bcc-ab29-082636654bce",
   "metadata": {
    "tags": []
   },
   "outputs": [
    {
     "data": {
      "text/html": [
       "<div>\n",
       "<style scoped>\n",
       "    .dataframe tbody tr th:only-of-type {\n",
       "        vertical-align: middle;\n",
       "    }\n",
       "\n",
       "    .dataframe tbody tr th {\n",
       "        vertical-align: top;\n",
       "    }\n",
       "\n",
       "    .dataframe thead th {\n",
       "        text-align: right;\n",
       "    }\n",
       "</style>\n",
       "<table border=\"1\" class=\"dataframe\">\n",
       "  <thead>\n",
       "    <tr style=\"text-align: right;\">\n",
       "      <th></th>\n",
       "      <th>id</th>\n",
       "      <th>name</th>\n",
       "    </tr>\n",
       "  </thead>\n",
       "  <tbody>\n",
       "    <tr>\n",
       "      <th>0</th>\n",
       "      <td>50</td>\n",
       "      <td>test1</td>\n",
       "    </tr>\n",
       "    <tr>\n",
       "      <th>1</th>\n",
       "      <td>51</td>\n",
       "      <td>test2</td>\n",
       "    </tr>\n",
       "    <tr>\n",
       "      <th>2</th>\n",
       "      <td>52</td>\n",
       "      <td>test2</td>\n",
       "    </tr>\n",
       "    <tr>\n",
       "      <th>3</th>\n",
       "      <td>53</td>\n",
       "      <td>test3</td>\n",
       "    </tr>\n",
       "    <tr>\n",
       "      <th>4</th>\n",
       "      <td>54</td>\n",
       "      <td>test4</td>\n",
       "    </tr>\n",
       "    <tr>\n",
       "      <th>5</th>\n",
       "      <td>55</td>\n",
       "      <td>test5</td>\n",
       "    </tr>\n",
       "    <tr>\n",
       "      <th>6</th>\n",
       "      <td>56</td>\n",
       "      <td>test6</td>\n",
       "    </tr>\n",
       "    <tr>\n",
       "      <th>7</th>\n",
       "      <td>57</td>\n",
       "      <td>test7</td>\n",
       "    </tr>\n",
       "  </tbody>\n",
       "</table>\n",
       "</div>"
      ],
      "text/plain": [
       "   id   name\n",
       "0  50  test1\n",
       "1  51  test2\n",
       "2  52  test2\n",
       "3  53  test3\n",
       "4  54  test4\n",
       "5  55  test5\n",
       "6  56  test6\n",
       "7  57  test7"
      ]
     },
     "execution_count": 39,
     "metadata": {},
     "output_type": "execute_result"
    }
   ],
   "source": [
    "vlan_df"
   ]
  },
  {
   "cell_type": "code",
   "execution_count": 40,
   "id": "52b734e5-16fe-464e-bf7c-7bc571a58471",
   "metadata": {
    "tags": []
   },
   "outputs": [],
   "source": [
    "payload  =  {\n",
    "    \"id\": 222,\n",
    "    \"networkId\": \"L_6434517bogus560141\",\n",
    "    \"name\": \"PYTHON\",\n",
    "    \"applianceIp\": \"122.16.110.1\",\n",
    "    \"subnet\": \"122.16.110.0/24\",\n",
    "    \"fixedIpAssignments\": {},\n",
    "    \"reservedIpRanges\": [],\n",
    "    \"dnsNameservers\": \"upstream_dns\"\n",
    "}"
   ]
  },
  {
   "cell_type": "code",
   "execution_count": 49,
   "id": "c7d50538-f20a-4038-a3e6-830a06831e2d",
   "metadata": {
    "tags": []
   },
   "outputs": [
    {
     "name": "stdout",
     "output_type": "stream",
     "text": [
      "{'applianceIp': '1.1.50.200',\n",
      " 'dnsNameservers': 'upstream_dns',\n",
      " 'fixedIpAssignments': {},\n",
      " 'id': 50,\n",
      " 'name': 'PYTHON',\n",
      " 'networkId': 'L_6434517bogus560141',\n",
      " 'reservedIpRanges': [],\n",
      " 'subnet': '1.1.50.0/24'}\n",
      "{'applianceIp': '1.1.51.200',\n",
      " 'dnsNameservers': 'upstream_dns',\n",
      " 'fixedIpAssignments': {},\n",
      " 'id': 51,\n",
      " 'name': 'PYTHON',\n",
      " 'networkId': 'L_6434517bogus560141',\n",
      " 'reservedIpRanges': [],\n",
      " 'subnet': '1.1.51.0/24'}\n",
      "{'applianceIp': '1.1.52.200',\n",
      " 'dnsNameservers': 'upstream_dns',\n",
      " 'fixedIpAssignments': {},\n",
      " 'id': 52,\n",
      " 'name': 'PYTHON',\n",
      " 'networkId': 'L_6434517bogus560141',\n",
      " 'reservedIpRanges': [],\n",
      " 'subnet': '1.1.52.0/24'}\n",
      "{'applianceIp': '1.1.53.200',\n",
      " 'dnsNameservers': 'upstream_dns',\n",
      " 'fixedIpAssignments': {},\n",
      " 'id': 53,\n",
      " 'name': 'PYTHON',\n",
      " 'networkId': 'L_6434517bogus560141',\n",
      " 'reservedIpRanges': [],\n",
      " 'subnet': '1.1.53.0/24'}\n",
      "{'applianceIp': '1.1.54.200',\n",
      " 'dnsNameservers': 'upstream_dns',\n",
      " 'fixedIpAssignments': {},\n",
      " 'id': 54,\n",
      " 'name': 'PYTHON',\n",
      " 'networkId': 'L_6434517bogus560141',\n",
      " 'reservedIpRanges': [],\n",
      " 'subnet': '1.1.54.0/24'}\n",
      "{'applianceIp': '1.1.55.200',\n",
      " 'dnsNameservers': 'upstream_dns',\n",
      " 'fixedIpAssignments': {},\n",
      " 'id': 55,\n",
      " 'name': 'PYTHON',\n",
      " 'networkId': 'L_6434517bogus560141',\n",
      " 'reservedIpRanges': [],\n",
      " 'subnet': '1.1.55.0/24'}\n",
      "{'applianceIp': '1.1.56.200',\n",
      " 'dnsNameservers': 'upstream_dns',\n",
      " 'fixedIpAssignments': {},\n",
      " 'id': 56,\n",
      " 'name': 'PYTHON',\n",
      " 'networkId': 'L_6434517bogus560141',\n",
      " 'reservedIpRanges': [],\n",
      " 'subnet': '1.1.56.0/24'}\n",
      "{'applianceIp': '1.1.57.200',\n",
      " 'dnsNameservers': 'upstream_dns',\n",
      " 'fixedIpAssignments': {},\n",
      " 'id': 57,\n",
      " 'name': 'PYTHON',\n",
      " 'networkId': 'L_6434517bogus560141',\n",
      " 'reservedIpRanges': [],\n",
      " 'subnet': '1.1.57.0/24'}\n"
     ]
    }
   ],
   "source": [
    "for index, row in vlan_df.iterrows():\n",
    "    payload[\"applianceIp\"] = f'1.1.{row[\"id\"]}.200'\n",
    "    payload[\"subnet\"] = f'1.1.{row[\"id\"]}.0/24'\n",
    "    payload[\"id\"] = row[\"id\"]\n",
    "    pprint (payload)\n",
    "    response = requests.post(url, headers=HEADERS, json=payload)"
   ]
  },
  {
   "cell_type": "code",
   "execution_count": null,
   "id": "02572cc8-6db2-4208-abf1-7448c2b65e97",
   "metadata": {},
   "outputs": [],
   "source": []
  }
 ],
 "metadata": {
  "kernelspec": {
   "display_name": "Python 3 (ipykernel)",
   "language": "python",
   "name": "python3"
  },
  "language_info": {
   "codemirror_mode": {
    "name": "ipython",
    "version": 3
   },
   "file_extension": ".py",
   "mimetype": "text/x-python",
   "name": "python",
   "nbconvert_exporter": "python",
   "pygments_lexer": "ipython3",
   "version": "3.11.5"
  }
 },
 "nbformat": 4,
 "nbformat_minor": 5
}
